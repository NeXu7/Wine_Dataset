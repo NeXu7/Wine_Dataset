{
  "nbformat": 4,
  "nbformat_minor": 0,
  "metadata": {
    "accelerator": "GPU",
    "colab": {
      "name": "Wine_dataset.ipynb",
      "provenance": [],
      "collapsed_sections": []
    },
    "kernelspec": {
      "display_name": "Python 3",
      "name": "python3"
    },
    "language_info": {
      "name": "python"
    }
  },
  "cells": [
    {
      "cell_type": "code",
      "metadata": {
        "id": "Lp2IaaHbE5tv"
      },
      "source": [
        "import torch\n",
        "import numpy as np\n",
        "from sklearn.model_selection import train_test_split\n",
        "from sklearn.datasets import load_wine"
      ],
      "execution_count": null,
      "outputs": []
    },
    {
      "cell_type": "code",
      "metadata": {
        "id": "8zQppSX-FF8R"
      },
      "source": [
        "wine_dataset = load_wine()"
      ],
      "execution_count": null,
      "outputs": []
    },
    {
      "cell_type": "code",
      "metadata": {
        "id": "sVKGu49FOM73"
      },
      "source": [
        "X_train, X_test, y_train, y_test = train_test_split(\n",
        "    wine_dataset.data, \n",
        "    wine_dataset.target, \n",
        "    test_size=0.3, \n",
        "    shuffle=True\n",
        ")"
      ],
      "execution_count": null,
      "outputs": []
    },
    {
      "cell_type": "code",
      "metadata": {
        "id": "2GRJyOUvQdcX"
      },
      "source": [
        "device = 'cuda:0' if torch.cuda.is_available() else 'cpu'"
      ],
      "execution_count": null,
      "outputs": []
    },
    {
      "cell_type": "code",
      "metadata": {
        "id": "vMx9pB8MOmpr"
      },
      "source": [
        "X_test = torch.FloatTensor(X_test).to(device)\n",
        "X_train = torch.FloatTensor(X_train).to(device)\n",
        "y_train = torch.LongTensor(y_train).to(device)\n",
        "y_test = torch.LongTensor(y_test).to(device)"
      ],
      "execution_count": null,
      "outputs": []
    },
    {
      "cell_type": "code",
      "metadata": {
        "id": "d0a7NK8URAKy"
      },
      "source": [
        "class Model(torch.nn.Module):\n",
        "  def __init__(self,n_input, n_hidden_neurons):\n",
        "    super(Model, self).__init__()\n",
        "    self.fc1 = torch.nn.Linear(n_input, n_hidden_neurons)\n",
        "    self.ac1 = torch.nn.Sigmoid()\n",
        "    self.fc2 = torch.nn.Linear(n_hidden_neurons, 3)\n",
        "\n",
        "  def forward(self, x):\n",
        "    x = self.fc1(x)\n",
        "    x = self.ac1(x)\n",
        "    x = self.fc2(x)\n",
        "    return x\n"
      ],
      "execution_count": null,
      "outputs": []
    },
    {
      "cell_type": "code",
      "metadata": {
        "id": "ctWPNQV6R1cW"
      },
      "source": [
        "model = Model(X_train.shape[1], 10).to(device)"
      ],
      "execution_count": null,
      "outputs": []
    },
    {
      "cell_type": "code",
      "metadata": {
        "id": "esrZa5ssTD7c"
      },
      "source": [
        "loss = torch.nn.CrossEntropyLoss()\n",
        "optimizer = torch.optim.Adam(model.parameters(), lr=1.0e-3)"
      ],
      "execution_count": null,
      "outputs": []
    },
    {
      "cell_type": "code",
      "metadata": {
        "colab": {
          "base_uri": "https://localhost:8080/"
        },
        "id": "wKRt1aiySJ7q",
        "outputId": "92fc0dc2-2f8e-41b6-bd06-94761a08a541"
      },
      "source": [
        "batch_size = 20\n",
        "for epoch in range(1000):\n",
        "  order = np.random.permutation(X_train.shape[0])\n",
        "  for start_index in range(0, X_train.shape[0], batch_size):\n",
        "    optimizer.zero_grad()\n",
        "    batch_id = order[start_index : start_index+batch_size]\n",
        "\n",
        "    X_batch = X_train[batch_id]\n",
        "    y_batch = y_train[batch_id]\n",
        "\n",
        "    predict = model.forward(X_batch)\n",
        "\n",
        "    loss_prediction = loss(predict, y_batch)\n",
        "    loss_prediction.backward()\n",
        "    optimizer.step()\n",
        "\n",
        "  if epoch % 10 == 0:\n",
        "    predict = model.forward(X_test)\n",
        "    predict = predict.argmax(axis=1)\n",
        "    print((predict == y_test).cpu().numpy().mean())"
      ],
      "execution_count": null,
      "outputs": [
        {
          "output_type": "stream",
          "name": "stdout",
          "text": [
            "0.24074074074074073\n",
            "0.7407407407407407\n",
            "0.7222222222222222\n",
            "0.7222222222222222\n",
            "0.7407407407407407\n",
            "0.7407407407407407\n",
            "0.7407407407407407\n",
            "0.7407407407407407\n",
            "0.7407407407407407\n",
            "0.7222222222222222\n",
            "0.7407407407407407\n",
            "0.7962962962962963\n",
            "0.7777777777777778\n",
            "0.8518518518518519\n",
            "0.8888888888888888\n",
            "0.8888888888888888\n",
            "0.8888888888888888\n",
            "0.9074074074074074\n",
            "0.9074074074074074\n",
            "0.9074074074074074\n",
            "0.9629629629629629\n",
            "0.9444444444444444\n",
            "0.9629629629629629\n",
            "0.9259259259259259\n",
            "0.9259259259259259\n",
            "0.9629629629629629\n",
            "0.9629629629629629\n",
            "0.9259259259259259\n",
            "0.9629629629629629\n",
            "0.9444444444444444\n",
            "0.9629629629629629\n",
            "0.9814814814814815\n",
            "0.9444444444444444\n",
            "0.9259259259259259\n",
            "0.9444444444444444\n",
            "0.9444444444444444\n",
            "0.9444444444444444\n",
            "0.9444444444444444\n",
            "0.9444444444444444\n",
            "0.9629629629629629\n",
            "0.9259259259259259\n",
            "0.9444444444444444\n",
            "0.9629629629629629\n",
            "0.9629629629629629\n",
            "0.9444444444444444\n",
            "0.9814814814814815\n",
            "0.9814814814814815\n",
            "0.9629629629629629\n",
            "0.9259259259259259\n",
            "0.9444444444444444\n",
            "0.9259259259259259\n",
            "0.9629629629629629\n",
            "0.9629629629629629\n",
            "0.9444444444444444\n",
            "0.9814814814814815\n",
            "0.9444444444444444\n",
            "0.9814814814814815\n",
            "0.9629629629629629\n",
            "0.9814814814814815\n",
            "0.9444444444444444\n",
            "0.9814814814814815\n",
            "0.9814814814814815\n",
            "0.9444444444444444\n",
            "0.9444444444444444\n",
            "0.9629629629629629\n",
            "0.9814814814814815\n",
            "0.9444444444444444\n",
            "0.9444444444444444\n",
            "0.9814814814814815\n",
            "0.9629629629629629\n",
            "0.9814814814814815\n",
            "0.9629629629629629\n",
            "0.9814814814814815\n",
            "0.9629629629629629\n",
            "0.9444444444444444\n",
            "0.9629629629629629\n",
            "0.9629629629629629\n",
            "0.9444444444444444\n",
            "0.9444444444444444\n",
            "0.9444444444444444\n",
            "0.9814814814814815\n",
            "0.9444444444444444\n",
            "0.9629629629629629\n",
            "0.9629629629629629\n",
            "0.9444444444444444\n",
            "0.9444444444444444\n",
            "0.9814814814814815\n",
            "0.9444444444444444\n",
            "0.9444444444444444\n",
            "0.9629629629629629\n",
            "0.9629629629629629\n",
            "0.9629629629629629\n",
            "0.9444444444444444\n",
            "0.9629629629629629\n",
            "0.9814814814814815\n",
            "0.9814814814814815\n",
            "0.9629629629629629\n",
            "0.9629629629629629\n",
            "0.9814814814814815\n",
            "0.9444444444444444\n"
          ]
        }
      ]
    },
    {
      "cell_type": "code",
      "metadata": {
        "id": "iiIq2o2oyoZJ"
      },
      "source": [
        ""
      ],
      "execution_count": null,
      "outputs": []
    }
  ]
}